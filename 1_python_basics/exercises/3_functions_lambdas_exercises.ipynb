{
 "cells": [
  {
   "cell_type": "markdown",
   "id": "49e95655",
   "metadata": {},
   "source": [
    "# Functions and Lambdas"
   ]
  },
  {
   "cell_type": "markdown",
   "id": "c5f10718",
   "metadata": {},
   "source": [
    "### Functions\n",
    "\n",
    "**Create a function that sums up two numbers**"
   ]
  },
  {
   "cell_type": "code",
   "execution_count": null,
   "id": "3484f111",
   "metadata": {},
   "outputs": [],
   "source": []
  },
  {
   "cell_type": "markdown",
   "id": "af214a70",
   "metadata": {},
   "source": [
    "** Create a function that sums up any number of input parameters **"
   ]
  },
  {
   "cell_type": "code",
   "execution_count": null,
   "id": "5b3e4513",
   "metadata": {},
   "outputs": [],
   "source": []
  },
  {
   "cell_type": "markdown",
   "id": "8112d16f",
   "metadata": {},
   "source": [
    "**Create a function that returns the best buddy of the fictional characters in Super Mario**\n",
    "\n",
    "Best buddies:\n",
    "\n",
    "- Mario and Luigi\n",
    "- Bowser and NokoNoko\n",
    "- Peach and Toad\n",
    "\n",
    "Function returns \"I don't know\" for any other input.\n"
   ]
  },
  {
   "cell_type": "code",
   "execution_count": null,
   "id": "3939d508",
   "metadata": {},
   "outputs": [],
   "source": []
  },
  {
   "cell_type": "markdown",
   "id": "2cce60e7",
   "metadata": {},
   "source": [
    "### Lambda functions"
   ]
  },
  {
   "cell_type": "markdown",
   "id": "24b8c824",
   "metadata": {},
   "source": [
    "Lambda functions are simple anonymous functions of the form:\n",
    "\n",
    "```\n",
    "lambda arguments : expression\n",
    "```"
   ]
  },
  {
   "cell_type": "markdown",
   "id": "af020b43",
   "metadata": {},
   "source": [
    "**Write a lambda function to filter out numbers smaller than 5 from this sequence**\n"
   ]
  },
  {
   "cell_type": "code",
   "execution_count": null,
   "id": "5449f405",
   "metadata": {},
   "outputs": [],
   "source": [
    "sequence = [10,2,8,7,5,4,3,11,0,1]"
   ]
  },
  {
   "cell_type": "code",
   "execution_count": null,
   "id": "56a9ae09",
   "metadata": {},
   "outputs": [],
   "source": []
  },
  {
   "cell_type": "markdown",
   "id": "7d92e51f",
   "metadata": {},
   "source": [
    "**Repeat the exercise above, but this time use a regular function**"
   ]
  },
  {
   "cell_type": "code",
   "execution_count": null,
   "id": "6fcc18f0",
   "metadata": {},
   "outputs": [],
   "source": []
  },
  {
   "cell_type": "markdown",
   "id": "f241e15a",
   "metadata": {},
   "source": [
    "**Create a \"factory\" (a function creating other functions) to create filter functions for any value**"
   ]
  },
  {
   "cell_type": "code",
   "execution_count": null,
   "id": "9861bb0f",
   "metadata": {},
   "outputs": [],
   "source": []
  }
 ],
 "metadata": {
  "kernelspec": {
   "display_name": "Python 3.9.1 64-bit",
   "language": "python",
   "name": "python3"
  },
  "language_info": {
   "codemirror_mode": {
    "name": "ipython",
    "version": 3
   },
   "file_extension": ".py",
   "mimetype": "text/x-python",
   "name": "python",
   "nbconvert_exporter": "python",
   "pygments_lexer": "ipython3",
   "version": "3.9.1"
  },
  "vscode": {
   "interpreter": {
    "hash": "c32e70da788b7e7a251586b987d2c569d373765eb2af3ced0674c402bf99c5a2"
   }
  }
 },
 "nbformat": 4,
 "nbformat_minor": 5
}
