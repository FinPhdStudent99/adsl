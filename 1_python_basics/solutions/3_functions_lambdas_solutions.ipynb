{
 "cells": [
  {
   "cell_type": "markdown",
   "id": "49e95655",
   "metadata": {},
   "source": [
    "# Functions and Lambdas"
   ]
  },
  {
   "cell_type": "markdown",
   "id": "c5f10718",
   "metadata": {},
   "source": [
    "### Functions\n",
    "\n",
    "**Create a function that sums up two numbers**"
   ]
  },
  {
   "cell_type": "code",
   "execution_count": 1,
   "id": "3484f111",
   "metadata": {},
   "outputs": [
    {
     "name": "stdout",
     "output_type": "stream",
     "text": [
      "30\n"
     ]
    }
   ],
   "source": [
    "def sum_two(a, b):\n",
    "  print(a + b)\n",
    "\n",
    "sum_two(10,20)"
   ]
  },
  {
   "cell_type": "markdown",
   "id": "af214a70",
   "metadata": {},
   "source": [
    "** Create a function that sums up any number of input parameters **"
   ]
  },
  {
   "cell_type": "code",
   "execution_count": 8,
   "id": "5b3e4513",
   "metadata": {},
   "outputs": [
    {
     "name": "stdout",
     "output_type": "stream",
     "text": [
      "100\n"
     ]
    }
   ],
   "source": [
    "def sum_any(*nums):\n",
    "    print(sum(nums))\n",
    "\n",
    "sum_any(10,20,30,40)"
   ]
  },
  {
   "cell_type": "markdown",
   "id": "8112d16f",
   "metadata": {},
   "source": [
    "**Create a function that returns the best buddy of the fictional characters in Super Mario**\n",
    "\n",
    "Best buddies:\n",
    "\n",
    "- Mario and Luigi\n",
    "- Bowser and NokoNoko\n",
    "- Peach and Toad\n",
    "\n",
    "Function returns \"I don't know\" for any other input.\n"
   ]
  },
  {
   "cell_type": "code",
   "execution_count": 29,
   "id": "3939d508",
   "metadata": {},
   "outputs": [],
   "source": [
    "def best_buddy(name):\n",
    "  if name == \"Mario\": return \"Luigi\"\n",
    "  if name == \"Luigi\": return \"Mario\"\n",
    "  if name == \"Bowser\": return \"NokoNoko\"\n",
    "  if name == \"NokoNoko\": return \"Bowser\"\n",
    "  if name == \"Peach\": return \"Toad\"\n",
    "  if name == \"Toad\": return \"Peach\"\n",
    "  return \"I do not know!\"\n",
    "\n",
    "\n",
    "best_buddy(\"Luigi\")"
   ]
  },
  {
   "cell_type": "markdown",
   "id": "2cce60e7",
   "metadata": {},
   "source": [
    "### Lambda functions"
   ]
  },
  {
   "cell_type": "markdown",
   "id": "24b8c824",
   "metadata": {},
   "source": [
    "Lambda functions are simple anonymous functions of the form:\n",
    "\n",
    "```\n",
    "lambda arguments : expression\n",
    "```"
   ]
  },
  {
   "cell_type": "markdown",
   "id": "af020b43",
   "metadata": {},
   "source": [
    "**Write a lambda function to filter out numbers smaller than 5 from this sequence**\n"
   ]
  },
  {
   "cell_type": "code",
   "execution_count": 9,
   "id": "5449f405",
   "metadata": {},
   "outputs": [],
   "source": [
    "sequence = [10,2,8,7,5,4,3,11,0,1]"
   ]
  },
  {
   "cell_type": "code",
   "execution_count": 12,
   "id": "56a9ae09",
   "metadata": {},
   "outputs": [
    {
     "name": "stdout",
     "output_type": "stream",
     "text": [
      "[10, 8, 7, 5, 11]\n"
     ]
    }
   ],
   "source": [
    "res = filter (lambda x: x > 4, sequence) \n",
    "print(list(res))"
   ]
  },
  {
   "cell_type": "markdown",
   "id": "7d92e51f",
   "metadata": {},
   "source": [
    "**Repeat the exercise above, but this time use a regular function**"
   ]
  },
  {
   "cell_type": "code",
   "execution_count": 13,
   "id": "6fcc18f0",
   "metadata": {},
   "outputs": [
    {
     "name": "stdout",
     "output_type": "stream",
     "text": [
      "[10, 8, 7, 5, 11]\n"
     ]
    }
   ],
   "source": [
    "def my_filter(x):\n",
    "    return x > 4\n",
    "\n",
    "res = filter (my_filter, sequence) \n",
    "print(list(res))"
   ]
  },
  {
   "cell_type": "markdown",
   "id": "f241e15a",
   "metadata": {},
   "source": [
    "**Create a \"factory\" (a function creating other functions) to create filter functions for any value**"
   ]
  },
  {
   "cell_type": "code",
   "execution_count": 14,
   "id": "9861bb0f",
   "metadata": {},
   "outputs": [
    {
     "name": "stdout",
     "output_type": "stream",
     "text": [
      "[10, 2, 8, 7, 5, 4, 3, 11]\n",
      "[10, 8, 7, 5, 4, 3, 11]\n",
      "[10, 8, 7, 5, 11]\n"
     ]
    }
   ],
   "source": [
    "def factory(x):\n",
    "    return lambda n : n > x\n",
    "\n",
    "f1 = factory(1)\n",
    "f2 = factory(2)\n",
    "f4 = factory(4)\n",
    "\n",
    "res = filter (f1, sequence) \n",
    "print(list(res))\n",
    "\n",
    "res = filter (f2, sequence) \n",
    "print(list(res))\n",
    "\n",
    "res = filter (f4, sequence) \n",
    "print(list(res))"
   ]
  }
 ],
 "metadata": {
  "kernelspec": {
   "display_name": "Python 3.9.1 64-bit",
   "language": "python",
   "name": "python3"
  },
  "language_info": {
   "codemirror_mode": {
    "name": "ipython",
    "version": 3
   },
   "file_extension": ".py",
   "mimetype": "text/x-python",
   "name": "python",
   "nbconvert_exporter": "python",
   "pygments_lexer": "ipython3",
   "version": "3.9.1"
  },
  "vscode": {
   "interpreter": {
    "hash": "c32e70da788b7e7a251586b987d2c569d373765eb2af3ced0674c402bf99c5a2"
   }
  }
 },
 "nbformat": 4,
 "nbformat_minor": 5
}
