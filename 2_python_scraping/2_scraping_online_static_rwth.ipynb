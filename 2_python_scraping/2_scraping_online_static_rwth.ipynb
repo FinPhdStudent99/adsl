{
 "cells": [
  {
   "cell_type": "markdown",
   "metadata": {},
   "source": [
    "## Fetching a static remote web page.\n",
    "\n",
    "_Note: adapted from Introduction to Scientific Programming's exercises_\n"
   ]
  },
  {
   "cell_type": "code",
   "execution_count": 1,
   "metadata": {},
   "outputs": [],
   "source": [
    "from bs4 import BeautifulSoup\n",
    "import urllib.request\n",
    "url = \"https://www.rwth-aachen.de/cms/root/Studium/Vor-dem-Studium/Studiengaenge/~yev/Liste-Aktuelle-Studiengaenge/lidx/1/?page=1&aaaaaaaaaaaaaum=aaaaaaaaaaaaxqh&showall=1\"\n",
    "page = urllib.request.urlopen(url).read()\n",
    "soup = BeautifulSoup(page, 'html.parser')"
   ]
  },
  {
   "cell_type": "code",
   "execution_count": null,
   "metadata": {},
   "outputs": [],
   "source": [
    "soup"
   ]
  },
  {
   "cell_type": "code",
   "execution_count": null,
   "metadata": {},
   "outputs": [],
   "source": [
    "soup.select('.listing')"
   ]
  },
  {
   "cell_type": "code",
   "execution_count": null,
   "metadata": {},
   "outputs": [],
   "source": [
    "soup.select('.location a')"
   ]
  },
  {
   "cell_type": "code",
   "execution_count": null,
   "metadata": {},
   "outputs": [],
   "source": [
    "elements = soup.select('.listing a')\n",
    "[x.text for x in elements]"
   ]
  },
  {
   "cell_type": "code",
   "execution_count": null,
   "metadata": {},
   "outputs": [],
   "source": [
    "list(set([x.text for x in elements[2:]]))"
   ]
  },
  {
   "cell_type": "markdown",
   "metadata": {},
   "source": [
    "### Use a fetched link for further exploration"
   ]
  },
  {
   "cell_type": "code",
   "execution_count": null,
   "metadata": {},
   "outputs": [],
   "source": [
    "url2 = 'https://rwth-aachen.de' + elements[2]['href']\n",
    "print(url2)\n",
    "page = urllib.request.urlopen(url2).read()\n",
    "soup = BeautifulSoup(page, 'html.parser')\n"
   ]
  },
  {
   "cell_type": "code",
   "execution_count": 21,
   "metadata": {},
   "outputs": [],
   "source": [
    "menu_list = soup.select('.menu-list')"
   ]
  },
  {
   "cell_type": "code",
   "execution_count": null,
   "metadata": {},
   "outputs": [],
   "source": [
    "len(menu_list)"
   ]
  },
  {
   "cell_type": "code",
   "execution_count": null,
   "metadata": {},
   "outputs": [],
   "source": [
    "print(menu_list[0].prettify())"
   ]
  },
  {
   "cell_type": "markdown",
   "metadata": {},
   "source": [
    "### Let's follow all links.\n",
    "\n",
    "Let's fetch URLs based on the content of the page.\n",
    "\n",
    "_Note: it might take a few minutes._"
   ]
  },
  {
   "cell_type": "code",
   "execution_count": 24,
   "metadata": {},
   "outputs": [
    {
     "name": "stdout",
     "output_type": "stream",
     "text": [
      "........................................................................................................................................................................................"
     ]
    }
   ],
   "source": [
    "result = {}\n",
    "for program in elements[2:]:\n",
    "    # Extract url.\n",
    "    url = program['href']\n",
    "    # Get page of study program.\n",
    "    page = urllib.request.urlopen('https://rwth-aachen.de' + url).read()\n",
    "    # Parse it.\n",
    "    soup = BeautifulSoup(page, 'html.parser')\n",
    "    # Extract program name and description.\n",
    "    descr = soup.select('.text > p')\n",
    "    program_name = program.text\n",
    "    # Description is a collection of tags that we want to join.\n",
    "    result[program_name] = ' '.join([x.text for x in descr])\n",
    "    # Just print a rudimentary progress bar.\n",
    "    print('.', end = '')"
   ]
  },
  {
   "cell_type": "code",
   "execution_count": null,
   "metadata": {},
   "outputs": [],
   "source": [
    "# Last description.\n",
    "descr"
   ]
  },
  {
   "cell_type": "code",
   "execution_count": null,
   "metadata": {},
   "outputs": [],
   "source": [
    "# Print all results.\n",
    "for x in result:\n",
    "    print(x)\n",
    "    print(result[x])\n",
    "    print('----')\n",
    "    print()"
   ]
  }
 ],
 "metadata": {
  "kernelspec": {
   "display_name": "Python 3.9.1 64-bit",
   "language": "python",
   "name": "python3"
  },
  "language_info": {
   "codemirror_mode": {
    "name": "ipython",
    "version": 3
   },
   "file_extension": ".py",
   "mimetype": "text/x-python",
   "name": "python",
   "nbconvert_exporter": "python",
   "pygments_lexer": "ipython3",
   "version": "3.9.13"
  },
  "vscode": {
   "interpreter": {
    "hash": "c32e70da788b7e7a251586b987d2c569d373765eb2af3ced0674c402bf99c5a2"
   }
  }
 },
 "nbformat": 4,
 "nbformat_minor": 4
}
