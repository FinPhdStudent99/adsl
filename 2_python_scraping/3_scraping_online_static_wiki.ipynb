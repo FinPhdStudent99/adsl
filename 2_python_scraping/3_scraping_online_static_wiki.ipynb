{
 "cells": [
  {
   "cell_type": "markdown",
   "metadata": {},
   "source": [
    "## Wikipedia list of metropolitan areas\n",
    "\n",
    "_Note: adapted from Ivan Smirnov's exercises_\n",
    "\n",
    "We want to count how many of the top 50 metropolitan areas are currently chinese according to that list:\n",
    "\n",
    "https://en.wikipedia.org/wiki/List_of_metropolitan_areas_by_population"
   ]
  },
  {
   "cell_type": "code",
   "execution_count": null,
   "metadata": {},
   "outputs": [],
   "source": [
    "# !pip install requests"
   ]
  },
  {
   "cell_type": "code",
   "execution_count": 1,
   "metadata": {},
   "outputs": [],
   "source": [
    "import requests"
   ]
  },
  {
   "cell_type": "code",
   "execution_count": 2,
   "metadata": {},
   "outputs": [
    {
     "data": {
      "text/plain": [
       "True"
      ]
     },
     "execution_count": 2,
     "metadata": {},
     "output_type": "execute_result"
    }
   ],
   "source": [
    "html = requests.get(\"https://en.wikipedia.org/wiki/List_of_metropolitan_areas_by_population\")\n",
    "html.ok"
   ]
  },
  {
   "cell_type": "code",
   "execution_count": null,
   "metadata": {},
   "outputs": [],
   "source": [
    "html.content"
   ]
  },
  {
   "cell_type": "code",
   "execution_count": null,
   "metadata": {},
   "outputs": [],
   "source": [
    "html.headers"
   ]
  },
  {
   "cell_type": "code",
   "execution_count": 5,
   "metadata": {},
   "outputs": [],
   "source": [
    "import pandas as pd\n",
    "\n",
    "html_dataframe_object = pd.read_html(html.content, header = 0)"
   ]
  },
  {
   "cell_type": "code",
   "execution_count": 6,
   "metadata": {},
   "outputs": [
    {
     "data": {
      "text/plain": [
       "list"
      ]
     },
     "execution_count": 6,
     "metadata": {},
     "output_type": "execute_result"
    }
   ],
   "source": [
    "type(html_dataframe_object)\n"
   ]
  },
  {
   "cell_type": "code",
   "execution_count": 7,
   "metadata": {},
   "outputs": [
    {
     "data": {
      "text/plain": [
       "[                                            Ekistics\n",
       " 0  List of largest cities List of cities proper b...\n",
       " 1                                      Cities portal\n",
       " 2  .mw-parser-output .navbar{display:inline;font-...,\n",
       "         City[a]        Country  UN 2018 population estimates[b]  \\\n",
       " 0       City[a]        Country  UN 2018 population estimates[b]   \n",
       " 1           NaN            NaN                              NaN   \n",
       " 2         Tokyo          Japan                         37468000   \n",
       " 3         Delhi          India                         28514000   \n",
       " 4      Shanghai          China                         25582000   \n",
       " ..          ...            ...                              ...   \n",
       " 78   Washington  United States                          5207000   \n",
       " 79       Yangon        Myanmar                          5157000   \n",
       " 80   Alexandria          Egypt                          5086000   \n",
       " 81        Jinan          China                          5052000   \n",
       " 82  Guadalajara         Mexico                          5023000   \n",
       " \n",
       "            City proper[c] City proper[c].1  \\\n",
       " 0              Definition       Population   \n",
       " 1                     NaN              NaN   \n",
       " 2   Metropolis prefecture         13515271   \n",
       " 3            Capital City         16753235   \n",
       " 4            Municipality         24870895   \n",
       " ..                    ...              ...   \n",
       " 78       Federal district           702455   \n",
       " 79                   City                —   \n",
       " 80      Urban governorate                —   \n",
       " 81  City (sub-provincial)          8700000   \n",
       " 82           Municipality          1385621   \n",
       " \n",
       "                                      City proper[c].2 City proper[c].3  \\\n",
       " 0   Area.mw-parser-output .nobold{font-weight:norm...    Density(/km2)   \n",
       " 1                                                 NaN              NaN   \n",
       " 2                                                2191        6,169[13]   \n",
       " 3                                                1484       11,289[15]   \n",
       " 4                                                6341    3,922[17][18]   \n",
       " ..                                                ...              ...   \n",
       " 78                                                177        3,969[30]   \n",
       " 79                                                  —                —   \n",
       " 80                                                  —                —   \n",
       " 81                                              10244              849   \n",
       " 82                                                151        9,176[21]   \n",
       " \n",
       "    Urban area[8] Urban area[8].1 Urban area[8].2 Metropolitan area[d]  \\\n",
       " 0     Population       Area(km2)   Density(/km2)           Population   \n",
       " 1            NaN             NaN             NaN                  NaN   \n",
       " 2       39105000            8231        4,751[e]             37274000   \n",
       " 3       31870000            2233       14,272[f]             29000000   \n",
       " 4       22118000            4069        5,436[g]                    —   \n",
       " ..           ...             ...             ...                  ...   \n",
       " 78       7583000            5501        1,378[r]              6263245   \n",
       " 79       6497000             603           10774                    —   \n",
       " 80       4857000             293           16577                    —   \n",
       " 81       4381000             798            5490                    —   \n",
       " 82       5437000             313      17,371[22]              5286642   \n",
       " \n",
       "    Metropolitan area[d].1 Metropolitan area[d].2  \n",
       " 0               Area(km2)          Density(/km2)  \n",
       " 1                     NaN                    NaN  \n",
       " 2                   13452              2,771[14]  \n",
       " 3                    3483              8,326[16]  \n",
       " 4                       —                      —  \n",
       " ..                    ...                    ...  \n",
       " 78                  17009                368[98]  \n",
       " 79                      —                      —  \n",
       " 80                      —                      —  \n",
       " 81                      —                      —  \n",
       " 82                   3560                   1485  \n",
       " \n",
       " [83 rows x 13 columns],\n",
       "       vteWorld's largest cities  \\\n",
       " 0                   City proper   \n",
       " 1             Metropolitan area   \n",
       " 2      Urban area/agglomeration   \n",
       " 3                    Historical   \n",
       " 4              Related articles   \n",
       " 5  Cities portal • World portal   \n",
       " \n",
       "                          vteWorld's largest cities.1  \n",
       " 0  Capitals Africa Americas (North Latin Central ...  \n",
       " 1  Americas (North South West Indies) Europe (Eur...  \n",
       " 2  Asia Africa Europe European Union Nordic North...  \n",
       " 3                                       World Europe  \n",
       " 4  Arcology Ecumenopolis Global city Megacity Meg...  \n",
       " 5                       Cities portal • World portal  ,\n",
       "           vteCities                                        vteCities.1\n",
       " 0   Urban geography  Urban area City centre Downtown Suburb Exurb C...\n",
       " 1  Urban government  City status Municipality direct-controlled Ind...\n",
       " 2   Urban economics  World's cities by GDP Global city Central busi...\n",
       " 3    Urban planning  History of urban planning Theories of urban pl...\n",
       " 4  Urban population  World's largest cities throughout history Most...\n",
       " 5          Urbanism  Urban warfare Urban studies Urban morphology U...\n",
       " 6       Environment  Climate change Green urbanism Sustainable city...\n",
       " 7     Cities portal                                      Cities portal]"
      ]
     },
     "execution_count": 7,
     "metadata": {},
     "output_type": "execute_result"
    }
   ],
   "source": [
    "html_dataframe_object"
   ]
  },
  {
   "cell_type": "code",
   "execution_count": 8,
   "metadata": {},
   "outputs": [
    {
     "data": {
      "text/plain": [
       "4"
      ]
     },
     "execution_count": 8,
     "metadata": {},
     "output_type": "execute_result"
    }
   ],
   "source": [
    "len(html_dataframe_object)"
   ]
  },
  {
   "cell_type": "code",
   "execution_count": 14,
   "metadata": {},
   "outputs": [],
   "source": [
    "df = html_dataframe_object[1]\n"
   ]
  },
  {
   "cell_type": "code",
   "execution_count": 15,
   "metadata": {},
   "outputs": [
    {
     "name": "stdout",
     "output_type": "stream",
     "text": [
      "<class 'pandas.core.frame.DataFrame'>\n",
      "RangeIndex: 83 entries, 0 to 82\n",
      "Data columns (total 13 columns):\n",
      " #   Column                           Non-Null Count  Dtype \n",
      "---  ------                           --------------  ----- \n",
      " 0   City[a]                          82 non-null     object\n",
      " 1   Country                          82 non-null     object\n",
      " 2   UN 2018 population estimates[b]  82 non-null     object\n",
      " 3   City proper[c]                   82 non-null     object\n",
      " 4   City proper[c].1                 82 non-null     object\n",
      " 5   City proper[c].2                 82 non-null     object\n",
      " 6   City proper[c].3                 82 non-null     object\n",
      " 7   Urban area[8]                    82 non-null     object\n",
      " 8   Urban area[8].1                  82 non-null     object\n",
      " 9   Urban area[8].2                  82 non-null     object\n",
      " 10  Metropolitan area[d]             82 non-null     object\n",
      " 11  Metropolitan area[d].1           82 non-null     object\n",
      " 12  Metropolitan area[d].2           82 non-null     object\n",
      "dtypes: object(13)\n",
      "memory usage: 8.6+ KB\n"
     ]
    }
   ],
   "source": [
    "\n",
    "df.info()\n"
   ]
  },
  {
   "cell_type": "code",
   "execution_count": 16,
   "metadata": {},
   "outputs": [
    {
     "data": {
      "text/html": [
       "<div>\n",
       "<style scoped>\n",
       "    .dataframe tbody tr th:only-of-type {\n",
       "        vertical-align: middle;\n",
       "    }\n",
       "\n",
       "    .dataframe tbody tr th {\n",
       "        vertical-align: top;\n",
       "    }\n",
       "\n",
       "    .dataframe thead th {\n",
       "        text-align: right;\n",
       "    }\n",
       "</style>\n",
       "<table border=\"1\" class=\"dataframe\">\n",
       "  <thead>\n",
       "    <tr style=\"text-align: right;\">\n",
       "      <th></th>\n",
       "      <th>City[a]</th>\n",
       "      <th>Country</th>\n",
       "      <th>UN 2018 population estimates[b]</th>\n",
       "      <th>City proper[c]</th>\n",
       "      <th>City proper[c].1</th>\n",
       "      <th>City proper[c].2</th>\n",
       "      <th>City proper[c].3</th>\n",
       "      <th>Urban area[8]</th>\n",
       "      <th>Urban area[8].1</th>\n",
       "      <th>Urban area[8].2</th>\n",
       "      <th>Metropolitan area[d]</th>\n",
       "      <th>Metropolitan area[d].1</th>\n",
       "      <th>Metropolitan area[d].2</th>\n",
       "    </tr>\n",
       "  </thead>\n",
       "  <tbody>\n",
       "    <tr>\n",
       "      <th>0</th>\n",
       "      <td>City[a]</td>\n",
       "      <td>Country</td>\n",
       "      <td>UN 2018 population estimates[b]</td>\n",
       "      <td>Definition</td>\n",
       "      <td>Population</td>\n",
       "      <td>Area.mw-parser-output .nobold{font-weight:norm...</td>\n",
       "      <td>Density(/km2)</td>\n",
       "      <td>Population</td>\n",
       "      <td>Area(km2)</td>\n",
       "      <td>Density(/km2)</td>\n",
       "      <td>Population</td>\n",
       "      <td>Area(km2)</td>\n",
       "      <td>Density(/km2)</td>\n",
       "    </tr>\n",
       "    <tr>\n",
       "      <th>1</th>\n",
       "      <td>NaN</td>\n",
       "      <td>NaN</td>\n",
       "      <td>NaN</td>\n",
       "      <td>NaN</td>\n",
       "      <td>NaN</td>\n",
       "      <td>NaN</td>\n",
       "      <td>NaN</td>\n",
       "      <td>NaN</td>\n",
       "      <td>NaN</td>\n",
       "      <td>NaN</td>\n",
       "      <td>NaN</td>\n",
       "      <td>NaN</td>\n",
       "      <td>NaN</td>\n",
       "    </tr>\n",
       "    <tr>\n",
       "      <th>2</th>\n",
       "      <td>Tokyo</td>\n",
       "      <td>Japan</td>\n",
       "      <td>37468000</td>\n",
       "      <td>Metropolis prefecture</td>\n",
       "      <td>13515271</td>\n",
       "      <td>2191</td>\n",
       "      <td>6,169[13]</td>\n",
       "      <td>39105000</td>\n",
       "      <td>8231</td>\n",
       "      <td>4,751[e]</td>\n",
       "      <td>37274000</td>\n",
       "      <td>13452</td>\n",
       "      <td>2,771[14]</td>\n",
       "    </tr>\n",
       "    <tr>\n",
       "      <th>3</th>\n",
       "      <td>Delhi</td>\n",
       "      <td>India</td>\n",
       "      <td>28514000</td>\n",
       "      <td>Capital City</td>\n",
       "      <td>16753235</td>\n",
       "      <td>1484</td>\n",
       "      <td>11,289[15]</td>\n",
       "      <td>31870000</td>\n",
       "      <td>2233</td>\n",
       "      <td>14,272[f]</td>\n",
       "      <td>29000000</td>\n",
       "      <td>3483</td>\n",
       "      <td>8,326[16]</td>\n",
       "    </tr>\n",
       "    <tr>\n",
       "      <th>4</th>\n",
       "      <td>Shanghai</td>\n",
       "      <td>China</td>\n",
       "      <td>25582000</td>\n",
       "      <td>Municipality</td>\n",
       "      <td>24870895</td>\n",
       "      <td>6341</td>\n",
       "      <td>3,922[17][18]</td>\n",
       "      <td>22118000</td>\n",
       "      <td>4069</td>\n",
       "      <td>5,436[g]</td>\n",
       "      <td>—</td>\n",
       "      <td>—</td>\n",
       "      <td>—</td>\n",
       "    </tr>\n",
       "  </tbody>\n",
       "</table>\n",
       "</div>"
      ],
      "text/plain": [
       "    City[a]  Country  UN 2018 population estimates[b]         City proper[c]  \\\n",
       "0   City[a]  Country  UN 2018 population estimates[b]             Definition   \n",
       "1       NaN      NaN                              NaN                    NaN   \n",
       "2     Tokyo    Japan                         37468000  Metropolis prefecture   \n",
       "3     Delhi    India                         28514000           Capital City   \n",
       "4  Shanghai    China                         25582000           Municipality   \n",
       "\n",
       "  City proper[c].1                                   City proper[c].2  \\\n",
       "0       Population  Area.mw-parser-output .nobold{font-weight:norm...   \n",
       "1              NaN                                                NaN   \n",
       "2         13515271                                               2191   \n",
       "3         16753235                                               1484   \n",
       "4         24870895                                               6341   \n",
       "\n",
       "  City proper[c].3 Urban area[8] Urban area[8].1 Urban area[8].2  \\\n",
       "0    Density(/km2)    Population       Area(km2)   Density(/km2)   \n",
       "1              NaN           NaN             NaN             NaN   \n",
       "2        6,169[13]      39105000            8231        4,751[e]   \n",
       "3       11,289[15]      31870000            2233       14,272[f]   \n",
       "4    3,922[17][18]      22118000            4069        5,436[g]   \n",
       "\n",
       "  Metropolitan area[d] Metropolitan area[d].1 Metropolitan area[d].2  \n",
       "0           Population              Area(km2)          Density(/km2)  \n",
       "1                  NaN                    NaN                    NaN  \n",
       "2             37274000                  13452              2,771[14]  \n",
       "3             29000000                   3483              8,326[16]  \n",
       "4                    —                      —                      —  "
      ]
     },
     "execution_count": 16,
     "metadata": {},
     "output_type": "execute_result"
    }
   ],
   "source": [
    "df.head()"
   ]
  },
  {
   "cell_type": "code",
   "execution_count": 17,
   "metadata": {},
   "outputs": [],
   "source": [
    "df = df.drop(0)\n"
   ]
  },
  {
   "cell_type": "code",
   "execution_count": 18,
   "metadata": {},
   "outputs": [
    {
     "name": "stdout",
     "output_type": "stream",
     "text": [
      "<class 'pandas.core.frame.DataFrame'>\n",
      "Int64Index: 82 entries, 1 to 82\n",
      "Data columns (total 13 columns):\n",
      " #   Column                           Non-Null Count  Dtype \n",
      "---  ------                           --------------  ----- \n",
      " 0   City[a]                          81 non-null     object\n",
      " 1   Country                          81 non-null     object\n",
      " 2   UN 2018 population estimates[b]  81 non-null     object\n",
      " 3   City proper[c]                   81 non-null     object\n",
      " 4   City proper[c].1                 81 non-null     object\n",
      " 5   City proper[c].2                 81 non-null     object\n",
      " 6   City proper[c].3                 81 non-null     object\n",
      " 7   Urban area[8]                    81 non-null     object\n",
      " 8   Urban area[8].1                  81 non-null     object\n",
      " 9   Urban area[8].2                  81 non-null     object\n",
      " 10  Metropolitan area[d]             81 non-null     object\n",
      " 11  Metropolitan area[d].1           81 non-null     object\n",
      " 12  Metropolitan area[d].2           81 non-null     object\n",
      "dtypes: object(13)\n",
      "memory usage: 9.0+ KB\n"
     ]
    }
   ],
   "source": [
    "\n",
    "df.info()"
   ]
  },
  {
   "cell_type": "code",
   "execution_count": 19,
   "metadata": {},
   "outputs": [
    {
     "data": {
      "text/html": [
       "<div>\n",
       "<style scoped>\n",
       "    .dataframe tbody tr th:only-of-type {\n",
       "        vertical-align: middle;\n",
       "    }\n",
       "\n",
       "    .dataframe tbody tr th {\n",
       "        vertical-align: top;\n",
       "    }\n",
       "\n",
       "    .dataframe thead th {\n",
       "        text-align: right;\n",
       "    }\n",
       "</style>\n",
       "<table border=\"1\" class=\"dataframe\">\n",
       "  <thead>\n",
       "    <tr style=\"text-align: right;\">\n",
       "      <th></th>\n",
       "      <th>City[a]</th>\n",
       "      <th>Country</th>\n",
       "      <th>UN 2018 population estimates[b]</th>\n",
       "      <th>City proper[c]</th>\n",
       "      <th>City proper[c].1</th>\n",
       "      <th>City proper[c].2</th>\n",
       "      <th>City proper[c].3</th>\n",
       "      <th>Urban area[8]</th>\n",
       "      <th>Urban area[8].1</th>\n",
       "      <th>Urban area[8].2</th>\n",
       "      <th>Metropolitan area[d]</th>\n",
       "      <th>Metropolitan area[d].1</th>\n",
       "      <th>Metropolitan area[d].2</th>\n",
       "    </tr>\n",
       "  </thead>\n",
       "  <tbody>\n",
       "    <tr>\n",
       "      <th>1</th>\n",
       "      <td>NaN</td>\n",
       "      <td>NaN</td>\n",
       "      <td>NaN</td>\n",
       "      <td>NaN</td>\n",
       "      <td>NaN</td>\n",
       "      <td>NaN</td>\n",
       "      <td>NaN</td>\n",
       "      <td>NaN</td>\n",
       "      <td>NaN</td>\n",
       "      <td>NaN</td>\n",
       "      <td>NaN</td>\n",
       "      <td>NaN</td>\n",
       "      <td>NaN</td>\n",
       "    </tr>\n",
       "    <tr>\n",
       "      <th>2</th>\n",
       "      <td>Tokyo</td>\n",
       "      <td>Japan</td>\n",
       "      <td>37468000</td>\n",
       "      <td>Metropolis prefecture</td>\n",
       "      <td>13515271</td>\n",
       "      <td>2191</td>\n",
       "      <td>6,169[13]</td>\n",
       "      <td>39105000</td>\n",
       "      <td>8231</td>\n",
       "      <td>4,751[e]</td>\n",
       "      <td>37274000</td>\n",
       "      <td>13452</td>\n",
       "      <td>2,771[14]</td>\n",
       "    </tr>\n",
       "    <tr>\n",
       "      <th>3</th>\n",
       "      <td>Delhi</td>\n",
       "      <td>India</td>\n",
       "      <td>28514000</td>\n",
       "      <td>Capital City</td>\n",
       "      <td>16753235</td>\n",
       "      <td>1484</td>\n",
       "      <td>11,289[15]</td>\n",
       "      <td>31870000</td>\n",
       "      <td>2233</td>\n",
       "      <td>14,272[f]</td>\n",
       "      <td>29000000</td>\n",
       "      <td>3483</td>\n",
       "      <td>8,326[16]</td>\n",
       "    </tr>\n",
       "    <tr>\n",
       "      <th>4</th>\n",
       "      <td>Shanghai</td>\n",
       "      <td>China</td>\n",
       "      <td>25582000</td>\n",
       "      <td>Municipality</td>\n",
       "      <td>24870895</td>\n",
       "      <td>6341</td>\n",
       "      <td>3,922[17][18]</td>\n",
       "      <td>22118000</td>\n",
       "      <td>4069</td>\n",
       "      <td>5,436[g]</td>\n",
       "      <td>—</td>\n",
       "      <td>—</td>\n",
       "      <td>—</td>\n",
       "    </tr>\n",
       "    <tr>\n",
       "      <th>5</th>\n",
       "      <td>São Paulo</td>\n",
       "      <td>Brazil</td>\n",
       "      <td>21650000</td>\n",
       "      <td>Municipality</td>\n",
       "      <td>12252023</td>\n",
       "      <td>1521</td>\n",
       "      <td>8,055[19]</td>\n",
       "      <td>22495000</td>\n",
       "      <td>3237</td>\n",
       "      <td>6,949[h]</td>\n",
       "      <td>21734682</td>\n",
       "      <td>7947</td>\n",
       "      <td>2,735[20]</td>\n",
       "    </tr>\n",
       "  </tbody>\n",
       "</table>\n",
       "</div>"
      ],
      "text/plain": [
       "     City[a] Country UN 2018 population estimates[b]         City proper[c]  \\\n",
       "1        NaN     NaN                             NaN                    NaN   \n",
       "2      Tokyo   Japan                        37468000  Metropolis prefecture   \n",
       "3      Delhi   India                        28514000           Capital City   \n",
       "4   Shanghai   China                        25582000           Municipality   \n",
       "5  São Paulo  Brazil                        21650000           Municipality   \n",
       "\n",
       "  City proper[c].1 City proper[c].2 City proper[c].3 Urban area[8]  \\\n",
       "1              NaN              NaN              NaN           NaN   \n",
       "2         13515271             2191        6,169[13]      39105000   \n",
       "3         16753235             1484       11,289[15]      31870000   \n",
       "4         24870895             6341    3,922[17][18]      22118000   \n",
       "5         12252023             1521        8,055[19]      22495000   \n",
       "\n",
       "  Urban area[8].1 Urban area[8].2 Metropolitan area[d] Metropolitan area[d].1  \\\n",
       "1             NaN             NaN                  NaN                    NaN   \n",
       "2            8231        4,751[e]             37274000                  13452   \n",
       "3            2233       14,272[f]             29000000                   3483   \n",
       "4            4069        5,436[g]                    —                      —   \n",
       "5            3237        6,949[h]             21734682                   7947   \n",
       "\n",
       "  Metropolitan area[d].2  \n",
       "1                    NaN  \n",
       "2              2,771[14]  \n",
       "3              8,326[16]  \n",
       "4                      —  \n",
       "5              2,735[20]  "
      ]
     },
     "execution_count": 19,
     "metadata": {},
     "output_type": "execute_result"
    }
   ],
   "source": [
    "\n",
    "df.head()"
   ]
  },
  {
   "cell_type": "code",
   "execution_count": 20,
   "metadata": {},
   "outputs": [
    {
     "name": "stdout",
     "output_type": "stream",
     "text": [
      "20 out of 82\n"
     ]
    }
   ],
   "source": [
    "print(len(df[df.Country == \"China\"]), 'out of', len(df))"
   ]
  }
 ],
 "metadata": {
  "kernelspec": {
   "display_name": "Python 3.9.1 64-bit",
   "language": "python",
   "name": "python3"
  },
  "language_info": {
   "codemirror_mode": {
    "name": "ipython",
    "version": 3
   },
   "file_extension": ".py",
   "mimetype": "text/x-python",
   "name": "python",
   "nbconvert_exporter": "python",
   "pygments_lexer": "ipython3",
   "version": "3.9.1"
  },
  "vscode": {
   "interpreter": {
    "hash": "c32e70da788b7e7a251586b987d2c569d373765eb2af3ced0674c402bf99c5a2"
   }
  }
 },
 "nbformat": 4,
 "nbformat_minor": 4
}
